{
 "cells": [
  {
   "cell_type": "markdown",
   "id": "7f78b351-7da4-4f40-b4d0-0fbfb1078e8e",
   "metadata": {},
   "source": [
    "# Working with Dictionaries, Sets, and NumPy arrays\n",
    "___\n",
    "**Author:** Ben Kelly \n",
    "**Version:** 1.0  \n",
    "**Semester:** Spring 2024 "
   ]
  },
  {
   "cell_type": "markdown",
   "id": "b18bb36f-aef1-44c1-8ae4-a9208c1a499f",
   "metadata": {},
   "source": [
    "### Problem 1 - Language Translator."
   ]
  },
  {
   "cell_type": "code",
   "execution_count": 7,
   "id": "3eb4770f-509b-4218-a101-fd8eb774becd",
   "metadata": {
    "tags": []
   },
   "outputs": [
    {
     "name": "stdin",
     "output_type": "stream",
     "text": [
      "Enter a word to translate from English to Spanish (enter Q to stop):  chair\n"
     ]
    },
    {
     "name": "stdout",
     "output_type": "stream",
     "text": [
      "The Spanish word for chair is silla.\n"
     ]
    },
    {
     "name": "stdin",
     "output_type": "stream",
     "text": [
      "Enter a word to translate from English to Spanish (enter Q to stop):  water\n"
     ]
    },
    {
     "name": "stdout",
     "output_type": "stream",
     "text": [
      "The Spanish word for water is agua.\n"
     ]
    },
    {
     "name": "stdin",
     "output_type": "stream",
     "text": [
      "Enter a word to translate from English to Spanish (enter Q to stop):  man\n"
     ]
    },
    {
     "name": "stdout",
     "output_type": "stream",
     "text": [
      "The Spanish word for man is hombre.\n"
     ]
    },
    {
     "name": "stdin",
     "output_type": "stream",
     "text": [
      "Enter a word to translate from English to Spanish (enter Q to stop):  father\n"
     ]
    },
    {
     "name": "stdout",
     "output_type": "stream",
     "text": [
      "The Spanish word for father is padre.\n"
     ]
    },
    {
     "name": "stdin",
     "output_type": "stream",
     "text": [
      "Enter a word to translate from English to Spanish (enter Q to stop):  basketball\n"
     ]
    },
    {
     "name": "stdout",
     "output_type": "stream",
     "text": [
      "The Spanish word for basketball is not in this dictionary.\n"
     ]
    },
    {
     "name": "stdin",
     "output_type": "stream",
     "text": [
      "Enter a word to translate from English to Spanish (enter Q to stop):  Q\n"
     ]
    }
   ],
   "source": [
    "span_translate = {'book': 'libro', 'chair': 'silla', 'tree': 'árbol', 'table': 'mesa', 'water': 'agua', 'woman': 'mujer', 'man': 'hombre', 'teacher': 'maestra', 'library': 'biblioteca', 'bread': 'pan', 'bathroom': 'baño', 'sun': 'sol', 'morning': 'mañana', 'sunday': 'domingo', 'car': 'coche', 'year': 'año', 'hour': 'hora', 'minute': 'minuto', 'father': 'padre', 'friend': 'amigo'}\n",
    "\n",
    "while True:\n",
    "    word = input(\"Enter a word to translate from English to Spanish (enter Q to stop): \")\n",
    "    if word == 'Q':\n",
    "        break\n",
    "    translate = span_translate.get(word)\n",
    "    if translate:\n",
    "        print(f\"The Spanish word for {word} is {translate}.\")\n",
    "    else:\n",
    "        print(f\"The Spanish word for {word} is not in this dictionary.\")\n",
    "        "
   ]
  },
  {
   "cell_type": "markdown",
   "id": "3f653683-ccb8-4fc2-b054-4e5fda16a8fe",
   "metadata": {},
   "source": [
    "### Problem 2 - Translating Morse Code."
   ]
  },
  {
   "cell_type": "code",
   "execution_count": 10,
   "id": "b91b1ba9-2135-484c-8902-a5acd7f999c1",
   "metadata": {
    "tags": []
   },
   "outputs": [
    {
     "name": "stdin",
     "output_type": "stream",
     "text": [
      "Enter a message to translate to Morse Code (type q to quit). How are you doing today\n"
     ]
    },
    {
     "name": "stdout",
     "output_type": "stream",
     "text": [
      "Morse Code Translation: ....---.--.-.-..-.-----..--..---..-.--.-----...--.--\n"
     ]
    },
    {
     "name": "stdin",
     "output_type": "stream",
     "text": [
      "Enter a message to translate to Morse Code (type q to quit). abc\n"
     ]
    },
    {
     "name": "stdout",
     "output_type": "stream",
     "text": [
      "Morse Code Translation: .--...-.-.\n"
     ]
    },
    {
     "name": "stdin",
     "output_type": "stream",
     "text": [
      "Enter a message to translate to Morse Code (type q to quit). I am 19\n"
     ]
    },
    {
     "name": "stdout",
     "output_type": "stream",
     "text": [
      "Morse Code Translation: ...---.--------.\n"
     ]
    },
    {
     "name": "stdin",
     "output_type": "stream",
     "text": [
      "Enter a message to translate to Morse Code (type q to quit). q\n"
     ]
    }
   ],
   "source": [
    "morse_code_trans = {'A': '.-', 'B': '-...', 'C': '-.-.', 'D': '-..', 'E': '.', 'F': '..-.', 'G': '--.', 'H': '....','I': '..', 'J': '.---', 'K': '-.-', 'L': '.-..', 'M': '--', 'N': '-.', 'O': '---', 'P': '.--.','Q': '--.-', 'R': '.-.', 'S': '...', 'T': '-', 'U': '..-', 'V': '...-', 'W': '.--', 'X': '-..-','Y': '-.--', 'Z': '--..',\n",
    "    '0': '-----', '1': '.----', '2': '..---', '3': '...--', '4': '....-', '5': '.....','6': '-....', '7': '--...', '8': '---..', '9': '----.'}\n",
    "def translate(sentence):\n",
    "    morse_code = ''\n",
    "    for character in sentence.upper():\n",
    "        if character in morse_code_trans:\n",
    "            morse_code += morse_code_trans[character] + ''\n",
    "    return morse_code\n",
    "\n",
    "while True:\n",
    "    message = input(\"Enter a message to translate to Morse Code (type q to quit).\")\n",
    "    if message == 'q':\n",
    "        break\n",
    "    morse = translate(message)\n",
    "    print(\"Morse Code Translation:\", morse)\n",
    "    "
   ]
  },
  {
   "cell_type": "markdown",
   "id": "4b9c876a-6493-4383-b34c-6e0dd9d73a7d",
   "metadata": {},
   "source": [
    "### Problem 3 - Comparing Minors/Majors."
   ]
  },
  {
   "cell_type": "code",
   "execution_count": 12,
   "id": "a4c71bc5-43e4-4c09-87fe-8998075d5baa",
   "metadata": {
    "tags": []
   },
   "outputs": [],
   "source": [
    "comp_sci_minor = {'CS100', 'CS130', 'CS131', 'CS215', 'CS400', 'CS322', 'CS330', 'MATH120'}\n",
    "bus_admin_minor = {'BUSA103', 'BUSA203', 'BUSA301', 'BUSA305', 'ACCT101', 'ECON110', 'FINA315', 'MATH125', 'MATH117'}\n",
    "bus_ana_minor = {'BUSA103', 'BUSA245', 'BUSA346', 'CS150', 'DS160', 'DS300', 'MATH117', 'MATH125', 'MATH205'}\n",
    "data_sci_major = {'BUSA103', 'BUSA245', 'BUSA346', 'CS150', 'DS160', 'DS300', 'DS450', 'MATH205', 'MATH215', 'MATH430', 'ECON410', 'ECON322', 'ECON351', 'DS444', 'ECON110', 'ECON111', 'MATH117'}"
   ]
  },
  {
   "cell_type": "code",
   "execution_count": 13,
   "id": "ac9ca073-54c4-4e47-9951-2459c7480c9d",
   "metadata": {
    "tags": []
   },
   "outputs": [
    {
     "data": {
      "text/plain": [
       "{'BUSA103', 'MATH117', 'MATH125'}"
      ]
     },
     "execution_count": 13,
     "metadata": {},
     "output_type": "execute_result"
    }
   ],
   "source": [
    "bus_admin_minor & bus_ana_minor #shows the overlapping courses in Business Administration and Business Analytics"
   ]
  },
  {
   "cell_type": "code",
   "execution_count": 14,
   "id": "a67bf7a0-e7fc-4c21-92df-d98de0dcdaa6",
   "metadata": {
    "tags": []
   },
   "outputs": [
    {
     "data": {
      "text/plain": [
       "{'ACCT101',\n",
       " 'BUSA103',\n",
       " 'BUSA203',\n",
       " 'BUSA301',\n",
       " 'BUSA305',\n",
       " 'CS100',\n",
       " 'CS130',\n",
       " 'CS131',\n",
       " 'CS215',\n",
       " 'CS322',\n",
       " 'CS330',\n",
       " 'CS400',\n",
       " 'ECON110',\n",
       " 'FINA315',\n",
       " 'MATH117',\n",
       " 'MATH120',\n",
       " 'MATH125'}"
      ]
     },
     "execution_count": 14,
     "metadata": {},
     "output_type": "execute_result"
    }
   ],
   "source": [
    "bus_admin_minor | comp_sci_minor #lists all unique courses in Business Administration and Business Analytics"
   ]
  },
  {
   "cell_type": "code",
   "execution_count": 16,
   "id": "34fe7da9-9bd8-4a89-ba8f-39f1dc5be5d0",
   "metadata": {
    "tags": []
   },
   "outputs": [
    {
     "data": {
      "text/plain": [
       "{'ACCT101', 'BUSA203', 'BUSA301', 'BUSA305', 'ECON110', 'FINA315'}"
      ]
     },
     "execution_count": 16,
     "metadata": {},
     "output_type": "execute_result"
    }
   ],
   "source": [
    "bus_admin_minor - bus_ana_minor #courses in Business Admin minor, not in Business Analytics"
   ]
  },
  {
   "cell_type": "code",
   "execution_count": 17,
   "id": "8423c6a6-ed91-410a-a5cc-609083b10327",
   "metadata": {
    "tags": []
   },
   "outputs": [
    {
     "data": {
      "text/plain": [
       "set()"
      ]
     },
     "execution_count": 17,
     "metadata": {},
     "output_type": "execute_result"
    }
   ],
   "source": [
    "comp_sci_minor & data_sci_major #shows no overlap between computer science minor and data science major"
   ]
  },
  {
   "cell_type": "code",
   "execution_count": 18,
   "id": "a5f0d9b4-4a81-40ab-a5ce-d934318c5396",
   "metadata": {
    "tags": []
   },
   "outputs": [
    {
     "data": {
      "text/plain": [
       "{'MATH125'}"
      ]
     },
     "execution_count": 18,
     "metadata": {},
     "output_type": "execute_result"
    }
   ],
   "source": [
    "bus_ana_minor - data_sci_major #shows the only unique course not in data science major is MATH 125, but students can take Math 117 instead, which is in data science major"
   ]
  },
  {
   "cell_type": "markdown",
   "id": "1dee41b2-42c8-4cdf-a98c-a88be0070a6d",
   "metadata": {},
   "source": [
    "### Problem 4 - Working with NumPy."
   ]
  },
  {
   "cell_type": "code",
   "execution_count": 22,
   "id": "d3c518bd-1773-4370-9ec1-41b2f30cfd12",
   "metadata": {
    "tags": []
   },
   "outputs": [
    {
     "name": "stdout",
     "output_type": "stream",
     "text": [
      "Array 1 is:\n",
      "[[14  5  3 12  7]\n",
      " [ 9  5 20 10 16]\n",
      " [ 9  9 20  8  1]\n",
      " [18 13 16  2 11]\n",
      " [ 2 20  4 10 12]]\n",
      "Array 2 is:\n",
      "[[ 0 17  8 10 12]\n",
      " [ 1  9  0  8  7]\n",
      " [19 16 16 15 19]\n",
      " [ 1  0  6 11  3]\n",
      " [11 18 11 20  3]]\n",
      "Matrix product is:\n",
      "[[  0  85  24 120  84]\n",
      " [  9  45   0  80 112]\n",
      " [171 144 320 120  19]\n",
      " [ 18   0  96  22  33]\n",
      " [ 22 360  44 200  36]]\n",
      "Dot product is:\n",
      "[[151 457 309 497 317]\n",
      " [571 806 628 860 601]\n",
      " [408 572 451 570 578]\n",
      " [440 877 533 766 650]\n",
      " [238 494 272 590 306]]\n"
     ]
    }
   ],
   "source": [
    "import numpy as np\n",
    "\n",
    "nums1 = np.random.randint(0, 21, size = (5, 5))\n",
    "nums2 = np.random.randint(0, 21, size = (5, 5))\n",
    "print(\"Array 1 is:\")\n",
    "print(nums1)\n",
    "print(\"Array 2 is:\")\n",
    "print(nums2)\n",
    "\n",
    "matrix_product = nums1 * nums2\n",
    "dot_product = nums1 @ nums2\n",
    "\n",
    "print(\"Matrix product is:\")\n",
    "print(matrix_product)\n",
    "print(\"Dot product is:\")\n",
    "print(dot_product)"
   ]
  },
  {
   "cell_type": "code",
   "execution_count": 24,
   "id": "cc78c79e-da58-44aa-b848-9fdab69475d3",
   "metadata": {
    "tags": []
   },
   "outputs": [
    {
     "name": "stdout",
     "output_type": "stream",
     "text": [
      "Determinant of Array 1 is: 1243061.9999999972\n",
      "Determinant of Array 2 is: 314713.99999999977\n",
      "The inverse of Array 1 is:\n",
      "[[ 0.04371142 -0.02647977 -0.0080173   0.04191102 -0.02794229]\n",
      " [-0.0180715  -0.03970035  0.01744885  0.02036423  0.04335423]\n",
      " [-0.03302007  0.02316859  0.03642296 -0.00276575 -0.01212972]\n",
      " [ 0.05522814  0.00968254  0.03161065 -0.06490585  0.01173634]\n",
      " [-0.01218282  0.0547889  -0.06622839  0.01408458  0.00999628]]\n",
      "The inverse of Array 2 is:\n",
      "[[-0.07683802  0.02997642  0.04150753 -0.04615937  0.02068545]\n",
      " [ 0.03949618 -0.00606265 -0.01666275 -0.07440406  0.03609627]\n",
      " [ 0.08246853 -0.17211182  0.00495053  0.03659831  0.0037685 ]\n",
      " [-0.03943263  0.07443584 -0.01554427  0.06865281  0.01384114]\n",
      " [ 0.00526192  0.0613001   0.03325877  0.02379621 -0.06518299]]\n"
     ]
    }
   ],
   "source": [
    "determinant_nums1 = np.linalg.det(nums1)\n",
    "determinant_nums2 = np.linalg.det(nums2)\n",
    "inverse_nums1 = np.linalg.inv(nums1)\n",
    "inverse_nums2 = np.linalg.inv(nums2)\n",
    "\n",
    "print(f\"Determinant of Array 1 is: {determinant_nums1}\")\n",
    "print(f\"Determinant of Array 2 is: {determinant_nums2}\")\n",
    "\n",
    "print(\"The inverse of Array 1 is:\")\n",
    "print(inverse_nums1)\n",
    "print(\"The inverse of Array 2 is:\")\n",
    "print(inverse_nums2)"
   ]
  },
  {
   "cell_type": "code",
   "execution_count": 27,
   "id": "a233a362-ed01-4fd4-8bc8-9dbc511b6bbf",
   "metadata": {
    "tags": []
   },
   "outputs": [
    {
     "name": "stdout",
     "output_type": "stream",
     "text": [
      "Concatenated array is:\n",
      "[0.         0.05263158 0.10526316 0.15789474 0.21052632 0.26315789\n",
      " 0.31578947 0.36842105 0.42105263 0.47368421 0.52631579 0.57894737\n",
      " 0.63157895 0.68421053 0.73684211 0.78947368 0.84210526 0.89473684\n",
      " 0.94736842 1.         1.         1.05263158 1.10526316 1.15789474\n",
      " 1.21052632 1.26315789 1.31578947 1.36842105 1.42105263 1.47368421\n",
      " 1.52631579 1.57894737 1.63157895 1.68421053 1.73684211 1.78947368\n",
      " 1.84210526 1.89473684 1.94736842 2.        ]\n",
      "Reshaped array is:\n",
      "[[0.         0.05263158 0.10526316 0.15789474]\n",
      " [0.21052632 0.26315789 0.31578947 0.36842105]\n",
      " [0.42105263 0.47368421 0.52631579 0.57894737]\n",
      " [0.63157895 0.68421053 0.73684211 0.78947368]\n",
      " [0.84210526 0.89473684 0.94736842 1.        ]\n",
      " [1.         1.05263158 1.10526316 1.15789474]\n",
      " [1.21052632 1.26315789 1.31578947 1.36842105]\n",
      " [1.42105263 1.47368421 1.52631579 1.57894737]\n",
      " [1.63157895 1.68421053 1.73684211 1.78947368]\n",
      " [1.84210526 1.89473684 1.94736842 2.        ]]\n"
     ]
    }
   ],
   "source": [
    "a = np.linspace(0, 1, 20)\n",
    "b = np.linspace(1, 2, 20)\n",
    "\n",
    "a_plus_b = np.concatenate((a, b))\n",
    "reshaped_array = np.reshape(a_plus_b, (10, 4))\n",
    "\n",
    "print(\"Concatenated array is:\")\n",
    "print(a_plus_b)\n",
    "print(\"Reshaped array is:\")\n",
    "print(reshaped_array)"
   ]
  },
  {
   "cell_type": "code",
   "execution_count": null,
   "id": "1ee69f9f-5cdb-4d9e-a959-cea74e5f3384",
   "metadata": {},
   "outputs": [],
   "source": []
  }
 ],
 "metadata": {
  "kernelspec": {
   "display_name": "Python 3 (ipykernel)",
   "language": "python",
   "name": "python3"
  },
  "language_info": {
   "codemirror_mode": {
    "name": "ipython",
    "version": 3
   },
   "file_extension": ".py",
   "mimetype": "text/x-python",
   "name": "python",
   "nbconvert_exporter": "python",
   "pygments_lexer": "ipython3",
   "version": "3.11.5"
  }
 },
 "nbformat": 4,
 "nbformat_minor": 5
}
